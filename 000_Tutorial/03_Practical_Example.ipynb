{
  "nbformat": 4,
  "nbformat_minor": 0,
  "metadata": {
    "colab": {
      "name": "03_Practical_Example.ipynb",
      "provenance": [],
      "collapsed_sections": [],
      "authorship_tag": "ABX9TyNrxl3Mp9Y0R7JzAaHQOLO3",
      "include_colab_link": true
    },
    "kernelspec": {
      "name": "python3",
      "display_name": "Python 3"
    },
    "language_info": {
      "name": "python"
    }
  },
  "cells": [
    {
      "cell_type": "markdown",
      "metadata": {
        "id": "view-in-github",
        "colab_type": "text"
      },
      "source": [
        "<a href=\"https://colab.research.google.com/github/lepremiere/Data-Collection/blob/main/000_Tutorial/03_Practical_Example.ipynb\" target=\"_parent\"><img src=\"https://colab.research.google.com/assets/colab-badge.svg\" alt=\"Open In Colab\"/></a>"
      ]
    },
    {
      "cell_type": "markdown",
      "metadata": {
        "id": "cHfFBalwAWU6"
      },
      "source": [
        "##**Practical Example**\n",
        "\n"
      ]
    },
    {
      "cell_type": "code",
      "metadata": {
        "id": "CNIVdWTxAc4i"
      },
      "source": [
        "import numpy as np"
      ],
      "execution_count": null,
      "outputs": []
    },
    {
      "cell_type": "code",
      "metadata": {
        "id": "1y5vshhyALQj"
      },
      "source": [
        "def I(n, m):\n",
        "  return np.eye(n, m, dtype=np.float32)"
      ],
      "execution_count": null,
      "outputs": []
    },
    {
      "cell_type": "code",
      "metadata": {
        "id": "xp4GJEgdAe20"
      },
      "source": [
        "R0 = np.array([2, 3, 4], dtype=np.float32)\n",
        "R1 = np.array([1, 4, 2], dtype=np.float32)\n",
        "\n",
        "R = np.stack([R0, R1], axis=1)\n",
        "G = 1/R\n",
        "E = np.ones((2, 1)).astype(np.float32)\n",
        "\n",
        "# Incoming wave\n",
        "a = np.array([[0.5, 0.25, 0.1], [0.3, 0.7, 0.9]], dtype=np.float32).T"
      ],
      "execution_count": null,
      "outputs": []
    },
    {
      "cell_type": "code",
      "metadata": {
        "id": "VZCj3kSlAfz3"
      },
      "source": [
        "Rx = np.kron(I(2, 2), I(3, 3)) * R.reshape(-1, order=\"F\")\n",
        "Gx = np.kron(I(2, 2), I(3, 3)) * G.reshape(-1, order=\"F\")\n",
        "Ex = np.kron(E, I(3, 3))"
      ],
      "execution_count": null,
      "outputs": []
    },
    {
      "cell_type": "markdown",
      "metadata": {
        "id": "2y5sWr-ZAg9O"
      },
      "source": [
        "**Serial Adaptor**"
      ]
    },
    {
      "cell_type": "code",
      "metadata": {
        "id": "pIFifPmDAhiW"
      },
      "source": [
        "def Gamma_T_kron(G, E):\n",
        "  return 2 * np.linalg.inv(E.T @ G @ E) @ E.T @ G\n",
        "\n",
        "def Gamma_T_einsum(G, E):\n",
        "  return 2 * np.einsum(\"ij,ij->ij\", 1/(G @ E), G) # Equivalent to: 2 * G/(G @ E)"
      ],
      "execution_count": null,
      "outputs": []
    },
    {
      "cell_type": "code",
      "metadata": {
        "colab": {
          "base_uri": "https://localhost:8080/"
        },
        "id": "LynbqCQOAiyR",
        "outputId": "1c9952ca-5055-47c4-bbe8-63cdb10074f4"
      },
      "source": [
        "gamma_T_kron = Gamma_T_kron(Gx, Ex)\n",
        "gamma_T_einsum = Gamma_T_einsum(G, E)\n",
        "\n",
        "print(\"Gamma.T (Kron): \\n\", gamma_T_kron)\n",
        "print(\"Gamma.T (Einsum):\\n\", gamma_T_einsum)\n",
        "\n",
        "assert (gamma_T_kron.sum(axis=1) == gamma_T_einsum.sum(axis=1)).all()"
      ],
      "execution_count": null,
      "outputs": [
        {
          "output_type": "stream",
          "name": "stdout",
          "text": [
            "Gamma.T (Kron): \n",
            " [[0.6666667 0.        0.        1.3333334 0.        0.       ]\n",
            " [0.        1.1428571 0.        0.        0.8571428 0.       ]\n",
            " [0.        0.        0.6666667 0.        0.        1.3333334]]\n",
            "Gamma.T (Einsum):\n",
            " [[0.6666667 1.3333334]\n",
            " [1.1428571 0.8571428]\n",
            " [0.6666667 1.3333334]]\n"
          ]
        }
      ]
    },
    {
      "cell_type": "code",
      "metadata": {
        "colab": {
          "base_uri": "https://localhost:8080/"
        },
        "id": "FLSmAzbAAiv_",
        "outputId": "d8f0eecc-748f-45d2-c43d-b7bcf58644ad"
      },
      "source": [
        "# Kron\n",
        "ax = a.reshape(-1, order=\"F\")\n",
        "EI = np.kron(np.ones((2,2)), I(3,3)).astype(np.float32)\n",
        "Sx = Ex @ gamma_T_kron - EI\n",
        "bx = Sx @ ax\n",
        "\n",
        "# Einsum\n",
        "S = (gamma_T_einsum - 1)\n",
        "b = np.einsum(\"i,ij->ij\", np.einsum(\"ij,ij->i\", S, a), np.ones_like(a))\n",
        "\n",
        "# print(S)\n",
        "# print(Sx)\n",
        "# print(a)\n",
        "print(\"b (Kron): \\n\", bx)\n",
        "print(\"b (Einsum): \\n\", b)\n",
        "\n",
        "assert bx.sum() == b.sum()"
      ],
      "execution_count": null,
      "outputs": [
        {
          "output_type": "stream",
          "name": "stdout",
          "text": [
            "b (Kron): \n",
            " [-0.06666664 -0.06428576  0.2666667  -0.06666664 -0.06428576  0.2666667 ]\n",
            "b (Einsum): \n",
            " [[-0.06666664 -0.06666664]\n",
            " [-0.06428576 -0.06428576]\n",
            " [ 0.2666667   0.2666667 ]]\n"
          ]
        }
      ]
    },
    {
      "cell_type": "markdown",
      "metadata": {
        "id": "2fBH9PhrAmDg"
      },
      "source": [
        "**Parallel Adaptor**"
      ]
    },
    {
      "cell_type": "code",
      "metadata": {
        "id": "SKLz-RBbAisP"
      },
      "source": [
        "def Gamma_kron(R, E):\n",
        "  return 2 * R @ E @ np.linalg.inv(E.T @ R @ E)\n",
        "\n",
        "def Gamma_einsum(R, E):\n",
        "  return 2 * np.einsum(\"ij,ij->ij\", R, 1/(R @ E)) # Equivalent to: 2 * R/(R @ E)"
      ],
      "execution_count": null,
      "outputs": []
    },
    {
      "cell_type": "code",
      "metadata": {
        "colab": {
          "base_uri": "https://localhost:8080/"
        },
        "id": "pISIONtDAinu",
        "outputId": "9eb16c95-3023-4027-e350-b2a929fa2faf"
      },
      "source": [
        "gamma_kron = Gamma_kron(Rx, Ex)\n",
        "gamma_einsum = Gamma_einsum(R, E)\n",
        "\n",
        "print(\"Gamma (Kron): \\n\", gamma_kron)\n",
        "print(\"Gamma (Einsum):\\n\", gamma_einsum)\n",
        "\n",
        "assert (gamma_kron.T.sum(axis=1) == gamma_einsum.sum(axis=1)).all()"
      ],
      "execution_count": null,
      "outputs": [
        {
          "output_type": "stream",
          "name": "stdout",
          "text": [
            "Gamma (Kron): \n",
            " [[1.3333334 0.        0.       ]\n",
            " [0.        0.8571429 0.       ]\n",
            " [0.        0.        1.3333334]\n",
            " [0.6666667 0.        0.       ]\n",
            " [0.        1.1428572 0.       ]\n",
            " [0.        0.        0.6666667]]\n",
            "Gamma (Einsum):\n",
            " [[1.3333334 0.6666667]\n",
            " [0.8571429 1.1428572]\n",
            " [1.3333334 0.6666667]]\n"
          ]
        }
      ]
    },
    {
      "cell_type": "code",
      "metadata": {
        "colab": {
          "base_uri": "https://localhost:8080/"
        },
        "id": "4f7vqVXxApFi",
        "outputId": "9edec34c-e9b0-4aed-ae03-2dd6f5e836ab"
      },
      "source": [
        "# Kron\n",
        "Sx = EI - gamma_kron @ Ex.T\n",
        "bx = Sx @ ax\n",
        "\n",
        "# Einsum\n",
        "S = 1. - gamma_einsum \n",
        "b = np.einsum(\"ij,ik->ij\", S, a)\n",
        "\n",
        "print(S)\n",
        "print(Sx)\n",
        "print(a)\n",
        "print(\"b (Kron): \\n\", bx)\n",
        "print(\"b (Einsum): \\n\", b)\n",
        "\n",
        "print(bx.sum() , b.sum())"
      ],
      "execution_count": null,
      "outputs": [
        {
          "output_type": "stream",
          "name": "stdout",
          "text": [
            "[[-0.33333337  0.3333333 ]\n",
            " [ 0.14285707 -0.1428572 ]\n",
            " [-0.33333337  0.3333333 ]]\n",
            "[[-0.33333337  0.          0.         -0.33333337  0.          0.        ]\n",
            " [ 0.          0.14285707  0.          0.          0.14285707  0.        ]\n",
            " [ 0.          0.         -0.33333337  0.          0.         -0.33333337]\n",
            " [ 0.3333333   0.          0.          0.3333333   0.          0.        ]\n",
            " [ 0.         -0.1428572   0.          0.         -0.1428572   0.        ]\n",
            " [ 0.          0.          0.3333333   0.          0.          0.3333333 ]]\n",
            "[[0.5  0.3 ]\n",
            " [0.25 0.7 ]\n",
            " [0.1  0.9 ]]\n",
            "b (Kron): \n",
            " [-0.2666667   0.13571422 -0.33333337  0.26666665 -0.13571432  0.3333333 ]\n",
            "b (Einsum): \n",
            " [[-0.2666667   0.26666665]\n",
            " [ 0.13571422 -0.13571432]\n",
            " [-0.33333337  0.3333333 ]]\n",
            "-2.0861626e-07 -2.3841858e-07\n"
          ]
        }
      ]
    }
  ]
}